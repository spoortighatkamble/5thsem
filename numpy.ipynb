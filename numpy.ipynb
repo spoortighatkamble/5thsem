{
 "cells": [
  {
   "cell_type": "markdown",
   "id": "6441a1ab",
   "metadata": {},
   "source": [
    "item_list = ['bread','milk','egg','butter','cocaa']\n",
    "student_marks = [78,47,96,55,34]\n",
    "hetero_list = [1,2,3,]"
   ]
  },
  {
   "cell_type": "code",
   "execution_count": 23,
   "id": "d2108400",
   "metadata": {},
   "outputs": [
    {
     "name": "stdout",
     "output_type": "stream",
     "text": [
      "[83, 52, 101, 60, 39]\n"
     ]
    }
   ],
   "source": [
    "student_marks = [78,47,96,55,34]\n",
    "for i in range(len(student_marks)):\n",
    "    student_marks[i]+=5\n",
    "print(student_marks)\n"
   ]
  },
  {
   "cell_type": "code",
   "execution_count": 24,
   "id": "69206604",
   "metadata": {},
   "outputs": [
    {
     "data": {
      "text/plain": [
       "'buick skylark 320'"
      ]
     },
     "execution_count": 24,
     "metadata": {},
     "output_type": "execute_result"
    }
   ],
   "source": [
    "import numpy as np\n",
    "cars = np.array(['chevrolet chevelle malivu','buick skylark 320','playmouth satellite','amc rebel sst','frod torino'])\n",
    "cars[1]"
   ]
  },
  {
   "cell_type": "code",
   "execution_count": 25,
   "id": "d0ac5ff5",
   "metadata": {},
   "outputs": [
    {
     "name": "stdout",
     "output_type": "stream",
     "text": [
      "median horsepower =  150.0\n"
     ]
    }
   ],
   "source": [
    "horsepower = [130, 165, 150, 150, 140]\n",
    "horsepower_arr = np.array(horsepower)\n",
    "print(\"median horsepower = \",np.median(horsepower_arr))"
   ]
  },
  {
   "cell_type": "code",
   "execution_count": 26,
   "id": "36138f81",
   "metadata": {},
   "outputs": [
    {
     "name": "stdout",
     "output_type": "stream",
     "text": [
      "median horsepower =  130.0\n"
     ]
    }
   ],
   "source": [
    "horsepower = [130,165,140,130,110]\n",
    "horsepower_arr = np.array(horsepower)\n",
    "print(\"median horsepower = \",np.median(horsepower_arr))"
   ]
  },
  {
   "cell_type": "code",
   "execution_count": 27,
   "id": "4401447b",
   "metadata": {},
   "outputs": [
    {
     "name": "stdout",
     "output_type": "stream",
     "text": [
      "[[ 72  55]\n",
      " [ 95 102]\n",
      " [ 71  82]\n",
      " [ 37  50]]\n"
     ]
    }
   ],
   "source": [
    "student_marks=([67,45],[90,92],[66,72],[32,40])\n",
    "student_marks_arr=np.array(student_marks)\n",
    "student_marks_arr+=(5,10)\n",
    "print(student_marks_arr)\n"
   ]
  },
  {
   "cell_type": "code",
   "execution_count": 28,
   "id": "72bac904",
   "metadata": {},
   "outputs": [
    {
     "name": "stdout",
     "output_type": "stream",
     "text": [
      "[ 0.          0.20408163  0.40816327  0.6122449   0.81632653  1.02040816\n",
      "  1.2244898   1.42857143  1.63265306  1.83673469  2.04081633  2.24489796\n",
      "  2.44897959  2.65306122  2.85714286  3.06122449  3.26530612  3.46938776\n",
      "  3.67346939  3.87755102  4.08163265  4.28571429  4.48979592  4.69387755\n",
      "  4.89795918  5.10204082  5.30612245  5.51020408  5.71428571  5.91836735\n",
      "  6.12244898  6.32653061  6.53061224  6.73469388  6.93877551  7.14285714\n",
      "  7.34693878  7.55102041  7.75510204  7.95918367  8.16326531  8.36734694\n",
      "  8.57142857  8.7755102   8.97959184  9.18367347  9.3877551   9.59183673\n",
      "  9.79591837 10.        ]\n",
      "length of arr: 50\n"
     ]
    }
   ],
   "source": [
    "arr = np.linspace(0,10)\n",
    "print(arr)\n",
    "print('length of arr:',len(arr))"
   ]
  },
  {
   "cell_type": "code",
   "execution_count": 29,
   "id": "7b12dfe5",
   "metadata": {},
   "outputs": [
    {
     "data": {
      "text/plain": [
       "array([   0,    1,    2, ..., 9997, 9998, 9999])"
      ]
     },
     "execution_count": 29,
     "metadata": {},
     "output_type": "execute_result"
    }
   ],
   "source": [
    "np.arange(0,10000)"
   ]
  },
  {
   "cell_type": "code",
   "execution_count": 30,
   "id": "2a411ce0",
   "metadata": {},
   "outputs": [
    {
     "data": {
      "text/plain": [
       "array([0, 3, 6, 9])"
      ]
     },
     "execution_count": 30,
     "metadata": {},
     "output_type": "execute_result"
    }
   ],
   "source": [
    "np.arange(0,10,3)"
   ]
  },
  {
   "cell_type": "code",
   "execution_count": 72,
   "id": "b35f2f95",
   "metadata": {},
   "outputs": [
    {
     "ename": "SyntaxError",
     "evalue": "invalid syntax. Perhaps you forgot a comma? (3592501906.py, line 3)",
     "output_type": "error",
     "traceback": [
      "\u001b[1;36m  Cell \u001b[1;32mIn[72], line 3\u001b[1;36m\u001b[0m\n\u001b[1;33m    print('original array: ', (horsepower_arr)\u001b[0m\n\u001b[1;37m                               ^\u001b[0m\n\u001b[1;31mSyntaxError\u001b[0m\u001b[1;31m:\u001b[0m invalid syntax. Perhaps you forgot a comma?\n"
     ]
    }
   ],
   "source": [
    "horsepower = [130, 165, 150, 150,140]\n",
    "horsepower_arr = np.array(horsepower)\n",
    "print('original array: ', (horsepower_arr)\n",
    "print('Sorted array: ', np.sort(horsepower_arr)\n",
    "print('original array after sorting: ',(horsepower_arr)\n"
   ]
  },
  {
   "cell_type": "code",
   "execution_count": null,
   "id": "01559562",
   "metadata": {},
   "outputs": [],
   "source": [
    "horsepower = [130, 165, 150, 150,140]\n",
    "horsepower_arr = np.array(horsepower)\n",
    "print('original array: ', horsepower_arr)\n",
    "print('original array after sorting: ', horsepower_arr)\n"
   ]
  },
  {
   "cell_type": "code",
   "execution_count": null,
   "id": "a2825a69",
   "metadata": {},
   "outputs": [],
   "source": [
    "horsepower = [130, 165, 150, 150, 140]\n",
    "horsepower_arr = np.array(horsepower)\n",
    "filter_arr = horsepower_arr > 135\n",
    "newarr = horsepower_arr[filter_arr]\n",
    "print(filter_arr)\n",
    "print(newarr)"
   ]
  },
  {
   "cell_type": "code",
   "execution_count": null,
   "id": "5019b682",
   "metadata": {},
   "outputs": [],
   "source": [
    "horsepower = [130, 165, 150, 150, 140]\n",
    "horsepower_arr = np.array(horsepower)\n",
    "x = np.where(horsepower_arr >= 150)\n",
    "print(x)\n",
    "horsepower_arr[x]"
   ]
  },
  {
   "cell_type": "code",
   "execution_count": null,
   "id": "a158d2dc",
   "metadata": {},
   "outputs": [],
   "source": [
    "horsepower = [130, 165, 150, 150, 140]\n",
    "horsepower_arr = np.array(horsepower)\n",
    "print(\"maximum horsepower:\",np.min(horsepower_arr))\n",
    "print(\"minimum horsepower:\",np.max(horsepower_arr))                          \n",
    "    "
   ]
  },
  {
   "cell_type": "code",
   "execution_count": null,
   "id": "1f20c5bd",
   "metadata": {},
   "outputs": [],
   "source": [
    "horsepower=[138,165,150,150,140]\n",
    "horsepower_arr=np.array(horsepower)\n",
    "print(\"mean horsepower=\",np.mean(horsepower_arr))"
   ]
  },
  {
   "cell_type": "code",
   "execution_count": 41,
   "id": "0f359985",
   "metadata": {},
   "outputs": [
    {
     "name": "stdout",
     "output_type": "stream",
     "text": [
      "median horsepower= 168.0\n"
     ]
    }
   ],
   "source": [
    "horsepower=[155,168,211,505,113]\n",
    "horsepower_arr=np.array(horsepower)\n",
    "print(\"median horsepower=\",np.median(horsepower_arr))"
   ]
  },
  {
   "cell_type": "code",
   "execution_count": 40,
   "id": "7e63c245",
   "metadata": {},
   "outputs": [
    {
     "data": {
      "text/plain": [
       "array(['buick skylark 320', 'plymouth satellite', 'amc rebel sst'],\n",
       "      dtype='<U25')"
      ]
     },
     "execution_count": 40,
     "metadata": {},
     "output_type": "execute_result"
    }
   ],
   "source": [
    "cars=np.array(['chevrolet chevelle malibu','buick skylark 320','plymouth satellite','amc rebel sst','ford torino'])\n",
    "cars[1:4]"
   ]
  },
  {
   "cell_type": "code",
   "execution_count": 36,
   "id": "086cd25a",
   "metadata": {},
   "outputs": [
    {
     "name": "stdout",
     "output_type": "stream",
     "text": [
      "[[   1 6012]\n",
      " [   2 7079]\n",
      " [   3 6886]\n",
      " [   4 7230]\n",
      " [   5 4598]\n",
      " [   6 5564]\n",
      " [   7 6971]\n",
      " [   8 7763]\n",
      " [   9 8032]\n",
      " [  10 9569]]\n"
     ]
    }
   ],
   "source": [
    "import numpy as np\n",
    "step_walk=([[1,6012],[2,7079],[3,6886],[4,7230],[5,4598],[6,5564],[7,6971],[8,7763],[9,8032],[10,9569]])\n",
    "step_walk=np.array(step_walk)\n",
    "print(step_walk)"
   ]
  },
  {
   "cell_type": "code",
   "execution_count": 35,
   "id": "c6405761",
   "metadata": {},
   "outputs": [
    {
     "name": "stdout",
     "output_type": "stream",
     "text": [
      "[[   1    2    3    4    5    6    7    8   91   10]\n",
      " [6012 7079 6886 7230 4598 5564 6971 7763 8032 9569]]\n",
      "[1, 2, 3, 4, 5, 6, 7, 8, 91, 10]\n",
      "[6012, 7079, 6886, 7230, 4598, 5564, 6971, 7763, 8032, 9569]\n"
     ]
    }
   ],
   "source": [
    "day_num=[1,2,3,4,5,6,7,8,91,10]\n",
    "step_walk=[6012,7079,6886,7230,4598,5564,6971,7763,8032,9569]\n",
    "new_arr=np.array([day_num,step_walk])\n",
    "print(new_arr)\n",
    "print(day_num)\n",
    "print(step_walk)"
   ]
  },
  {
   "cell_type": "code",
   "execution_count": 34,
   "id": "c6826c68",
   "metadata": {},
   "outputs": [
    {
     "name": "stdout",
     "output_type": "stream",
     "text": [
      "[[    1  8012]\n",
      " [    2  9079]\n",
      " [    3  8886]\n",
      " [    4  9230]\n",
      " [    5  6598]\n",
      " [    6  7564]\n",
      " [    7  8971]\n",
      " [    8  9763]\n",
      " [    9 10032]\n",
      " [   10 11569]]\n"
     ]
    }
   ],
   "source": [
    "step_walk=([[1,6012],[2,7079],[3,6886],[4,7230],[5,4598],[6,5564],[7,6971],[8,7763],[9,8032],[10,9569]])\n",
    "step_walk=np.array(step_walk)\n",
    "step_walk+=(0,2000)\n",
    "print(step_walk)\n",
    "\n"
   ]
  },
  {
   "cell_type": "code",
   "execution_count": 42,
   "id": "fcf1f234",
   "metadata": {},
   "outputs": [
    {
     "name": "stdout",
     "output_type": "stream",
     "text": [
      "(array([1], dtype=int64), array([9], dtype=int64))\n",
      "[9569]\n"
     ]
    }
   ],
   "source": [
    "arr=np.where(new_arr[:,]>9000)\n",
    "print(arr)\n",
    "print(new_arr[arr])"
   ]
  },
  {
   "cell_type": "code",
   "execution_count": 57,
   "id": "a6f6be8b",
   "metadata": {},
   "outputs": [
    {
     "data": {
      "text/plain": [
       "array([[   1, 6012],\n",
       "       [   2, 7079],\n",
       "       [   3, 6886],\n",
       "       [   4, 7230],\n",
       "       [   5, 4598],\n",
       "       [   6, 5564],\n",
       "       [   7, 6971],\n",
       "       [   8, 7763],\n",
       "       [   9, 8032],\n",
       "       [  10, 9569]])"
      ]
     },
     "execution_count": 57,
     "metadata": {},
     "output_type": "execute_result"
    }
   ],
   "source": [
    "import numpy as np\n",
    "day_number=np.arange(1,11)\n",
    "steps_walked=[6012,7079,6886,7230,4598,5564,6971,7763,8032,9569]\n",
    "arr = np.array([day_number,steps_walked])\n",
    "arr = arr.T\n",
    "arr"
   ]
  },
  {
   "cell_type": "code",
   "execution_count": 58,
   "id": "550f2fa4",
   "metadata": {},
   "outputs": [
    {
     "data": {
      "text/plain": [
       "array([[  10, 9569]])"
      ]
     },
     "execution_count": 58,
     "metadata": {},
     "output_type": "execute_result"
    }
   ],
   "source": [
    "matched=arr[:,1]>9000\n",
    "matched\n",
    "new_arr=arr[matched]\n",
    "new_arr"
   ]
  },
  {
   "cell_type": "code",
   "execution_count": 59,
   "id": "4324dac1",
   "metadata": {},
   "outputs": [
    {
     "name": "stdout",
     "output_type": "stream",
     "text": [
      "sorted 2D numpy array\n",
      "[[   5 4598]\n",
      " [   6 5564]\n",
      " [   1 6012]\n",
      " [   3 6886]\n",
      " [   7 6971]\n",
      " [   2 7079]\n",
      " [   4 7230]\n",
      " [   8 7763]\n",
      " [   9 8032]\n",
      " [  10 9569]]\n"
     ]
    }
   ],
   "source": [
    "sortedArr = arr[arr[:,1].argsort()]\n",
    "print('sorted 2D numpy array')\n",
    "print(sortedArr)"
   ]
  },
  {
   "cell_type": "code",
   "execution_count": 60,
   "id": "66e3e816",
   "metadata": {},
   "outputs": [
    {
     "name": "stdout",
     "output_type": "stream",
     "text": [
      "10\n",
      "[4 6]\n",
      "[3 7]\n"
     ]
    }
   ],
   "source": [
    "import numpy as np\n",
    "arr = np.array([[1,2],[3,4]])\n",
    "print(np.sum(arr))\n",
    "print(np.sum(arr,axis=0))\n",
    "print(np.sum(arr,axis=1))\n"
   ]
  },
  {
   "cell_type": "code",
   "execution_count": 62,
   "id": "ee1774f1",
   "metadata": {},
   "outputs": [
    {
     "name": "stdout",
     "output_type": "stream",
     "text": [
      "2.5\n",
      "[2. 3.]\n",
      "[1.5 3.5]\n"
     ]
    }
   ],
   "source": [
    "import numpy as np\n",
    "arr=np.array([[1,2],[3,4]])\n",
    "print(np.mean(arr))\n",
    "print(np.mean(arr,axis=0))\n",
    "print(np.mean(arr,axis=1))"
   ]
  },
  {
   "cell_type": "code",
   "execution_count": 69,
   "id": "682d0014",
   "metadata": {},
   "outputs": [
    {
     "name": "stdout",
     "output_type": "stream",
     "text": [
      "4\n",
      "[3 4]\n",
      "[2 4]\n"
     ]
    }
   ],
   "source": [
    "import numpy as np\n",
    "arr= np.array([[1,2],[3,4]])\n",
    "print(np.max(arr))\n",
    "print(np.max(arr,axis=0))\n",
    "print(np.max(arr,axis=1))\n",
    "      \n",
    "\n",
    "\n",
    "      "
   ]
  },
  {
   "cell_type": "code",
   "execution_count": 70,
   "id": "6f0999cc",
   "metadata": {},
   "outputs": [
    {
     "name": "stdout",
     "output_type": "stream",
     "text": [
      "<function amin at 0x0000021F123C4400> [[1 2]\n",
      " [3 4]]\n",
      "[1 2]\n",
      "[1 3]\n"
     ]
    }
   ],
   "source": [
    "import numpy as np\n",
    "arr= np.array([[1,2],[3,4]])\n",
    "print(np.min,(arr))\n",
    "print(np.min(arr,axis=0))\n",
    "print(np.min(arr,axis=1))\n"
   ]
  },
  {
   "cell_type": "code",
   "execution_count": 5,
   "id": "ea18ad73",
   "metadata": {},
   "outputs": [
    {
     "name": "stdout",
     "output_type": "stream",
     "text": [
      "1.118033988749895\n",
      "[1. 1.]\n",
      "[0.5 0.5]\n"
     ]
    }
   ],
   "source": [
    "import numpy as np\n",
    "arr = np.array([[1,2],[3,4]])\n",
    "print(np.std(arr))\n",
    "print(np.std(arr, axis=0))\n",
    "print(np.std(arr, axis=1))\n"
   ]
  },
  {
   "cell_type": "code",
   "execution_count": 6,
   "id": "9cc6d34e",
   "metadata": {},
   "outputs": [
    {
     "name": "stdout",
     "output_type": "stream",
     "text": [
      "1.25\n",
      "[1. 1.]\n",
      "[0.25 0.25]\n"
     ]
    }
   ],
   "source": [
    "import numpy as np\n",
    "arr = np.array([[1,2],[3,4]])\n",
    "print(np.var(arr))\n",
    "print(np.var(arr, axis=0))\n",
    "print(np.var(arr, axis=1))"
   ]
  },
  {
   "cell_type": "code",
   "execution_count": 7,
   "id": "8b3b51c6",
   "metadata": {},
   "outputs": [
    {
     "name": "stdout",
     "output_type": "stream",
     "text": [
      "[5 7 9]\n"
     ]
    }
   ],
   "source": [
    "import numpy as np\n",
    "arr1=np.array([1,2,3])\n",
    "arr2=np.array([4,5,6])\n",
    "result=arr1+arr2\n",
    "print(result)"
   ]
  },
  {
   "cell_type": "code",
   "execution_count": 8,
   "id": "acc9388d",
   "metadata": {},
   "outputs": [
    {
     "name": "stdout",
     "output_type": "stream",
     "text": [
      "[3 3 3]\n"
     ]
    }
   ],
   "source": [
    "import numpy as np\n",
    "arr1=np.array([4,5,6])\n",
    "arr2=np.array([1,2,3])\n",
    "result=arr1-arr2\n",
    "print(result)"
   ]
  },
  {
   "cell_type": "code",
   "execution_count": 9,
   "id": "18ddc0f1",
   "metadata": {},
   "outputs": [
    {
     "name": "stdout",
     "output_type": "stream",
     "text": [
      "[ 4 10 18]\n"
     ]
    }
   ],
   "source": [
    "import numpy as np\n",
    "arr1=np.array([1,2,3])\n",
    "arr2=np.array([4,5,6])\n",
    "result=arr1*arr2\n",
    "print(result)"
   ]
  },
  {
   "cell_type": "code",
   "execution_count": 10,
   "id": "608e9899",
   "metadata": {},
   "outputs": [
    {
     "name": "stdout",
     "output_type": "stream",
     "text": [
      "[2. 2. 2.]\n"
     ]
    }
   ],
   "source": [
    "import numpy as np\n",
    "arr1=np.array([4,6,8])\n",
    "arr2=np.array([2,3,4])\n",
    "result=arr1/arr2\n",
    "print(result)"
   ]
  },
  {
   "cell_type": "code",
   "execution_count": 12,
   "id": "c48205a5",
   "metadata": {},
   "outputs": [
    {
     "name": "stdout",
     "output_type": "stream",
     "text": [
      "[ 4  9 16]\n"
     ]
    }
   ],
   "source": [
    "import numpy as np\n",
    "arr=np.array([2,3,4])\n",
    "result=arr**2\n",
    "print(result)"
   ]
  },
  {
   "cell_type": "code",
   "execution_count": 13,
   "id": "315ea5ac",
   "metadata": {},
   "outputs": [
    {
     "name": "stdout",
     "output_type": "stream",
     "text": [
      "[2. 3. 4.]\n"
     ]
    }
   ],
   "source": [
    "import numpy as np\n",
    "arr=np.array([4,9,16])\n",
    "result=np.sqrt(arr)\n",
    "print(result)"
   ]
  },
  {
   "cell_type": "code",
   "execution_count": 14,
   "id": "4736702c",
   "metadata": {},
   "outputs": [
    {
     "name": "stdout",
     "output_type": "stream",
     "text": [
      "[False  True  True]\n"
     ]
    }
   ],
   "source": [
    "import numpy as np\n",
    "arr1=np.array([1,2,3])\n",
    "arr2=np.array([2,2,3])\n",
    "result=arr1==arr2\n",
    "print(result)"
   ]
  },
  {
   "cell_type": "code",
   "execution_count": 15,
   "id": "3bbc16ee",
   "metadata": {},
   "outputs": [
    {
     "name": "stdout",
     "output_type": "stream",
     "text": [
      "3.5\n",
      "[0.81649658 0.81649658]\n",
      "[5 7 9]\n"
     ]
    }
   ],
   "source": [
    "import numpy as np\n",
    "arr=np.array([[1,2,3],[4,5,6]])\n",
    "result_mean=np.mean(arr)\n",
    "result_std=np.std(arr,axis=1)\n",
    "result_sum=np.sum(arr,axis=0)\n",
    "print(result_mean)\n",
    "print(result_std)\n",
    "print(result_sum)\n"
   ]
  },
  {
   "cell_type": "code",
   "execution_count": 16,
   "id": "79b0a6c1",
   "metadata": {},
   "outputs": [
    {
     "name": "stdout",
     "output_type": "stream",
     "text": [
      "[ 4  9 16]\n"
     ]
    }
   ],
   "source": [
    "import numpy as np\n",
    "arr=np.array([2,3,4])\n",
    "result=np.power(arr,2)\n",
    "print(result)"
   ]
  },
  {
   "cell_type": "code",
   "execution_count": 19,
   "id": "ec7d91bc",
   "metadata": {},
   "outputs": [
    {
     "name": "stdout",
     "output_type": "stream",
     "text": [
      "[1 0 0]\n"
     ]
    }
   ],
   "source": [
    "import numpy as np\n",
    "arr=np.array([1,5,10])\n",
    "result=np.where(arr<5,arr,0)\n",
    "print(result)"
   ]
  },
  {
   "cell_type": "code",
   "execution_count": 20,
   "id": "25929e9c",
   "metadata": {},
   "outputs": [
    {
     "name": "stdout",
     "output_type": "stream",
     "text": [
      "[ 1  3  6 10 15]\n"
     ]
    }
   ],
   "source": [
    "import numpy as np\n",
    "arr=np.array([1,2,3,4,5,])\n",
    "result=np.cumsum(arr)\n",
    "print(result)"
   ]
  },
  {
   "cell_type": "code",
   "execution_count": 21,
   "id": "5e269131",
   "metadata": {},
   "outputs": [
    {
     "name": "stdout",
     "output_type": "stream",
     "text": [
      "[1 2 3 4 5]\n"
     ]
    }
   ],
   "source": [
    "import numpy as np\n",
    "arr=np.array([3,1,4,2,5])\n",
    "result=np.sort(arr)\n",
    "print(result)"
   ]
  },
  {
   "cell_type": "code",
   "execution_count": 23,
   "id": "37ca313a",
   "metadata": {},
   "outputs": [
    {
     "name": "stdout",
     "output_type": "stream",
     "text": [
      "[[ 4  2 -1  4]\n",
      " [ 3 -3  0 -1]]\n"
     ]
    }
   ],
   "source": [
    "\n",
    "S_X=np.array([[2,5,6,5],[4,8,6,5]])\n",
    "S_Y=np.array([[6,7,5,9],[7,5,6,4]])\n",
    "quaterly_difference=S_Y-S_X\n",
    "print(quaterly_difference)\n"
   ]
  },
  {
   "cell_type": "code",
   "execution_count": 24,
   "id": "6e16531a",
   "metadata": {},
   "outputs": [
    {
     "name": "stdout",
     "output_type": "stream",
     "text": [
      "[[False False False False]\n",
      " [False False False False]]\n"
     ]
    }
   ],
   "source": [
    "less_than_2=S_X<2\n",
    "print(less_than_2)"
   ]
  },
  {
   "cell_type": "code",
   "execution_count": 33,
   "id": "201e060b",
   "metadata": {},
   "outputs": [
    {
     "name": "stdout",
     "output_type": "stream",
     "text": [
      "[[ 2  7 13 18]\n",
      " [ 4 12 18 23]]\n",
      "[[False False  True  True]\n",
      " [False  True  True  True]]\n"
     ]
    }
   ],
   "source": [
    "X_cumsum=np.cumsum(S_X,axis=1)\n",
    "print(X_cumsum)\n",
    "print(X_cumsum>=8)\n",
    "\n"
   ]
  },
  {
   "cell_type": "code",
   "execution_count": 35,
   "id": "14d3f2b9",
   "metadata": {},
   "outputs": [
    {
     "name": "stdout",
     "output_type": "stream",
     "text": [
      "[4.5  5.75]\n"
     ]
    }
   ],
   "source": [
    "yearly_mean_X=np.mean(S_X,axis=1)\n",
    "print(yearly_mean_X)"
   ]
  },
  {
   "cell_type": "code",
   "execution_count": 37,
   "id": "ca482403",
   "metadata": {},
   "outputs": [
    {
     "name": "stdout",
     "output_type": "stream",
     "text": [
      "[6.5 6.  5.5 6.5]\n"
     ]
    }
   ],
   "source": [
    "quaterly_mean_Y=np.mean(S_Y,axis=0)\n",
    "print(quaterly_mean_Y)"
   ]
  },
  {
   "cell_type": "code",
   "execution_count": 41,
   "id": "c6030ea9",
   "metadata": {},
   "outputs": [
    {
     "name": "stdout",
     "output_type": "stream",
     "text": [
      "[1, 4, 9, 16, 25]\n"
     ]
    }
   ],
   "source": [
    "numbers=[1,2,3,4,5]\n",
    "squared_numbers=map(lambda x:x**2, numbers)\n",
    "print(list(squared_numbers))"
   ]
  },
  {
   "cell_type": "code",
   "execution_count": 43,
   "id": "00d04b39",
   "metadata": {},
   "outputs": [
    {
     "name": "stdout",
     "output_type": "stream",
     "text": [
      "[2, 4]\n"
     ]
    }
   ],
   "source": [
    "numbers=[1,2,3,4,5]\n",
    "even_numbers=filter(lambda x:x%2==0, numbers)\n",
    "print(list(even_numbers))"
   ]
  },
  {
   "cell_type": "code",
   "execution_count": 45,
   "id": "2c7480bd",
   "metadata": {},
   "outputs": [
    {
     "name": "stdout",
     "output_type": "stream",
     "text": [
      "15\n"
     ]
    }
   ],
   "source": [
    "from functools import reduce \n",
    "numbers=[1,2,3,4,5]\n",
    "sum_of_numbers=reduce(lambda x,y:x+y,numbers)\n",
    "print (sum_of_numbers)"
   ]
  },
  {
   "cell_type": "code",
   "execution_count": 50,
   "id": "fdb3011d",
   "metadata": {},
   "outputs": [
    {
     "name": "stdout",
     "output_type": "stream",
     "text": [
      "25\n"
     ]
    }
   ],
   "source": [
    "square=lambda x: x**2\n",
    "print(square(5))"
   ]
  }
 ],
 "metadata": {
  "kernelspec": {
   "display_name": "Python 3 (ipykernel)",
   "language": "python",
   "name": "python3"
  },
  "language_info": {
   "codemirror_mode": {
    "name": "ipython",
    "version": 3
   },
   "file_extension": ".py",
   "mimetype": "text/x-python",
   "name": "python",
   "nbconvert_exporter": "python",
   "pygments_lexer": "ipython3",
   "version": "3.11.3"
  }
 },
 "nbformat": 4,
 "nbformat_minor": 5
}
